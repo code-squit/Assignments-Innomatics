{
 "cells": [
  {
   "cell_type": "markdown",
   "id": "64a73147",
   "metadata": {},
   "source": [
    "### Unknown Variance of Population"
   ]
  },
  {
   "cell_type": "markdown",
   "id": "3edc6cda",
   "metadata": {},
   "source": [
    "<b>Q-1: Pista House selling Hyderabadi Chicken Dum biryani claims that each parcel packet has 500 grams of biryani (also mentioned on the label of packet). You are sceptic of their claims and believe that on average each packet does not contain 500 grams of biryani. How do you prove your claim? ~(Given that the population std is 50)~ </b>\n"
   ]
  },
  {
   "cell_type": "markdown",
   "id": "2244bd9c",
   "metadata": {},
   "source": [
    "**Step - 1:  \n",
    "Alternate Hypothesis (Bold Claim): $$ H_1: \\mu \\neq 500 $$\n",
    "Null Hypothesis (Status Quo): $$ H_0: \\mu = 500 $$**"
   ]
  },
  {
   "cell_type": "code",
   "execution_count": 86,
   "id": "78a6d985",
   "metadata": {},
   "outputs": [],
   "source": [
    "import matplotlib.pyplot as plt\n",
    "import numpy as np\n",
    "from scipy.stats import norm\n",
    "from scipy.stats import t"
   ]
  },
  {
   "cell_type": "markdown",
   "id": "67dd7e79",
   "metadata": {},
   "source": [
    "**Step - 2:**\n",
    "* Collect a sample of size n = 10 $$ [490, 220, 470, 500, 495, 496, 496, 498, 508, 480] $$\n",
    "* Compute sample mean $$ \\bar{x} \\ = 465.3 $$\n"
   ]
  },
  {
   "cell_type": "code",
   "execution_count": 2,
   "id": "ee4c12d7",
   "metadata": {},
   "outputs": [
    {
     "name": "stdout",
     "output_type": "stream",
     "text": [
      "465.3\n",
      "67884.09999999998 7542.677777777775\n",
      "86.84859110991827\n",
      "3.1622776601683795\n"
     ]
    },
    {
     "data": {
      "text/plain": [
       "62.12342311527914"
      ]
     },
     "execution_count": 2,
     "metadata": {},
     "output_type": "execute_result"
    }
   ],
   "source": [
    "sal = [490, 220, 470, 500, 495, 496, 496, 498, 508, 480]\n",
    "\n",
    "sum = 0\n",
    "\n",
    "for item in sal:\n",
    "    sum += item \n",
    "\n",
    "mean = sum/len(sal)\n",
    "print(mean)\n",
    "    \n",
    "sum = 0\n",
    "for item in sal:\n",
    "    sum += (item - mean)**2\n",
    "    \n",
    "var = sum/(len(sal)-1)    # variance\n",
    "\n",
    "print(sum,var)\n",
    "\n",
    "std = var**0.5\n",
    "print(std)    \n",
    "\n",
    "\n",
    "print(10**0.5)\n",
    "\n",
    "\n",
    "2.262 *(std/10**0.5)"
   ]
  },
  {
   "cell_type": "code",
   "execution_count": 3,
   "id": "9cbec539",
   "metadata": {},
   "outputs": [],
   "source": [
    "# t_score for sampling distributions\n",
    "\n",
    "def t_score(sample_size, sample_mean, pop_mean, std):\n",
    "    numerator = sample_mean - pop_mean\n",
    "    denomenator = std / sample_size**0.5\n",
    "    return numerator / denomenator"
   ]
  },
  {
   "cell_type": "code",
   "execution_count": 4,
   "id": "3870b835",
   "metadata": {},
   "outputs": [],
   "source": [
    "# Defining the sample and population parameters\n",
    "\n",
    "sample_size = 10\n",
    "sample_mean = 465.3\n",
    "pop_mean = 500\n",
    "std = 86.8"
   ]
  },
  {
   "cell_type": "markdown",
   "id": "24d9c439",
   "metadata": {},
   "source": [
    "**Step - 3:**\n",
    "Compute Test Statistic: $$ t = \\frac{\\bar{x} - \\mu}{S/\\sqrt[2]{n}}$$"
   ]
  },
  {
   "cell_type": "code",
   "execution_count": 5,
   "id": "5daf2a22",
   "metadata": {},
   "outputs": [
    {
     "name": "stdout",
     "output_type": "stream",
     "text": [
      "-1.2641824286617827\n"
     ]
    }
   ],
   "source": [
    "# Calculating the t-score\n",
    "\n",
    "t = t_score(sample_size, sample_mean, pop_mean, std)\n",
    "\n",
    "print(t)"
   ]
  },
  {
   "cell_type": "markdown",
   "id": "09a35a82",
   "metadata": {},
   "source": [
    "**Step - 4:\n",
    "Decide $ \\alpha $**"
   ]
  },
  {
   "cell_type": "code",
   "execution_count": 16,
   "id": "e2823547",
   "metadata": {},
   "outputs": [
    {
     "name": "stdout",
     "output_type": "stream",
     "text": [
      "2.2621571627409915\n"
     ]
    }
   ],
   "source": [
    "from scipy.stats import t\n",
    "dof = sample_size-1\n",
    "confidence_level = 0.95\n",
    "alpha = 1-(confidence_level)\n",
    "t_critical = t.ppf(1-alpha/2, dof)\n",
    "print(t_critical)"
   ]
  },
  {
   "cell_type": "markdown",
   "id": "dc5b8011",
   "metadata": {},
   "source": [
    "**Step - 5.1: two tailed t-test: Fail to  reject Null Hypothesis**"
   ]
  },
  {
   "cell_type": "code",
   "execution_count": 17,
   "id": "770feed6",
   "metadata": {},
   "outputs": [
    {
     "data": {
      "text/plain": [
       "Text(465.3, 0.0007, 'x_bar')"
      ]
     },
     "execution_count": 17,
     "metadata": {},
     "output_type": "execute_result"
    },
    {
     "data": {
      "image/png": "[encoded data removed]",
      "text/plain": [
       "<Figure size 432x288 with 1 Axes>"
      ]
     },
     "metadata": {
      "needs_background": "light"
     },
     "output_type": "display_data"
    }
   ],
   "source": [
    "# Ploting the sampling distribution with rejection regions\n",
    "\n",
    "# Defining the x minimum and x maximum\n",
    "x_min = -100\n",
    "x_max = 1000\n",
    "\n",
    "\n",
    "# Defining the sampling distribution mean and sampling distribution std\n",
    "mean = pop_mean\n",
    "# std = pop_std / sample_size**0.5\n",
    "\n",
    "\n",
    "# Ploting the graph and setting the x limits\n",
    "x = np.linspace(x_min, x_max, 100)\n",
    "y = norm.pdf(x, mean, std)\n",
    "plt.xlim(x_min, x_max)\n",
    "plt.plot(x, y)\n",
    "\n",
    "\n",
    "# Computing the left and right critical values (Two tailed Test)\n",
    "t_critical_left = pop_mean + (-t_critical * std)\n",
    "t_critical_right = pop_mean + (t_critical * std)\n",
    "\n",
    "\n",
    "# Shading the left rejection region\n",
    "x1 = np.linspace(x_min,t_critical_left, 100)\n",
    "y1 = norm.pdf(x1, mean, std)\n",
    "plt.fill_between(x1, y1, color='orange')\n",
    "\n",
    "\n",
    "# Shading the right rejection region\n",
    "x2 = np.linspace(t_critical_right, x_max)\n",
    "y2 = norm.pdf(x2, mean, std)\n",
    "plt.fill_between(x2, y2, color='orange')\n",
    "\n",
    "\n",
    "# Ploting the sample mean and concluding the results \n",
    "plt.scatter(sample_mean, 0)\n",
    "plt.annotate(\"x_bar\", (sample_mean, 0.0007))"
   ]
  },
  {
   "cell_type": "code",
   "execution_count": 37,
   "id": "1c2bf32f",
   "metadata": {},
   "outputs": [
    {
     "name": "stdout",
     "output_type": "stream",
     "text": [
      "Fail to reject Null Hypothesis\n"
     ]
    }
   ],
   "source": [
    "# Conclusion using t test\n",
    "\n",
    "if(t_score > t_critical):\n",
    "    print(\"Reject Null Hypothesis\")\n",
    "else:\n",
    "    print(\"Fail to reject Null Hypothesis\")"
   ]
  },
  {
   "cell_type": "markdown",
   "id": "4737e17b",
   "metadata": {},
   "source": [
    "<b>Q-2: You have developed a new Natural Language Processing Algorithms and done a user study. You claim that the average rating given by the users is greater than 4 on a scale of 1 to 5. How do you prove this to your client? ~(Given that the population std is 0.5)~ </b>\n"
   ]
  },
  {
   "cell_type": "markdown",
   "id": "321014dd",
   "metadata": {},
   "source": [
    "**Step - 1:  \n",
    "Alternate Hypothesis (Bold Claim): $$ H_1: \\mu > 4 $$\n",
    "Null Hypothesis (Status Quo): $$ H_0: \\mu \\leq 4 $$**"
   ]
  },
  {
   "cell_type": "markdown",
   "id": "2a3d21ca",
   "metadata": {},
   "source": [
    "**Step - 2:** \n",
    "* Collect a sample of size n = 20 $$ [4, 3, 5, 4, 5, 3, 5, 5, 4, 2, 4, 5, 5, 4, 4, 5, 4, 5, 4, 5] $$\n",
    "* Compute sample mean $$ \\bar{x} \\ = 4.25 $$  "
   ]
  },
  {
   "cell_type": "code",
   "execution_count": 18,
   "id": "5b389189",
   "metadata": {},
   "outputs": [
    {
     "name": "stdout",
     "output_type": "stream",
     "text": [
      "4.25\n",
      "13.75 0.7236842105263158\n",
      "0.8506963092234007\n",
      "4.47213595499958\n"
     ]
    },
    {
     "data": {
      "text/plain": [
       "0.4302809822478917"
      ]
     },
     "execution_count": 18,
     "metadata": {},
     "output_type": "execute_result"
    }
   ],
   "source": [
    "sal = [4,3,5,4,5,3,5,5,4,2,4,5,5,4,4,5,4,5,4,5]\n",
    "\n",
    "sum = 0\n",
    "\n",
    "for item in sal:\n",
    "    sum += item \n",
    "\n",
    "mean = sum/len(sal)\n",
    "print(mean)\n",
    "    \n",
    "sum = 0\n",
    "for item in sal:\n",
    "    sum += (item - mean)**2\n",
    "    \n",
    "var = sum/(len(sal)-1)    # variance\n",
    "\n",
    "print(sum,var)\n",
    "\n",
    "std = var**0.5\n",
    "print(std)    \n",
    "\n",
    "\n",
    "print(20**0.5)\n",
    "\n",
    "\n",
    "2.262 *(std/20**0.5)"
   ]
  },
  {
   "cell_type": "code",
   "execution_count": null,
   "id": "e9cfdb51",
   "metadata": {},
   "outputs": [],
   "source": [
    "# t_score for sampling distributions\n",
    "\n",
    "def t_score(sample_size, sample_mean, pop_mean, std):\n",
    "    numerator = sample_mean - pop_mean\n",
    "    denomenator = std / sample_size**0.5\n",
    "    return numerator / denomenator"
   ]
  },
  {
   "cell_type": "code",
   "execution_count": 24,
   "id": "6eb6a29d",
   "metadata": {},
   "outputs": [],
   "source": [
    "# Defining the sample and population parameters\n",
    "\n",
    "sample_size = 20\n",
    "sample_mean = 4.25\n",
    "pop_mean = 4\n",
    "std = 0.85"
   ]
  },
  {
   "cell_type": "markdown",
   "id": "e9e499eb",
   "metadata": {},
   "source": [
    "**Step - 3:\n",
    "Compute Test Statistic: $$ t = \\frac{\\bar{x} - \\mu}{S/\\sqrt[2]{n}}$$**"
   ]
  },
  {
   "cell_type": "code",
   "execution_count": 25,
   "id": "22b32f6a",
   "metadata": {},
   "outputs": [
    {
     "data": {
      "text/plain": [
       "1.3153341044116411"
      ]
     },
     "execution_count": 25,
     "metadata": {},
     "output_type": "execute_result"
    }
   ],
   "source": [
    "t_score = (sample_mean- pop_mean)/((std)/(sample_size)**0.5)\n",
    "t_score"
   ]
  },
  {
   "cell_type": "markdown",
   "id": "3c5f2a8a",
   "metadata": {},
   "source": [
    "**Step - 4:\n",
    "Decide $ \\alpha $**"
   ]
  },
  {
   "cell_type": "code",
   "execution_count": 33,
   "id": "61eb8178",
   "metadata": {},
   "outputs": [
    {
     "name": "stdout",
     "output_type": "stream",
     "text": [
      "1.729132811521367\n"
     ]
    }
   ],
   "source": [
    "# One Tail - Calculating the t-critical value\n",
    "dof = sample_size-1\n",
    "\n",
    "confidence_level = 0.95\n",
    "\n",
    "alpha = 1 - (confidence_level)\n",
    "\n",
    "t_critical = t.ppf(1 - alpha, dof)\n",
    "\n",
    "print(t_critical)"
   ]
  },
  {
   "cell_type": "markdown",
   "id": "9fdc276b",
   "metadata": {},
   "source": [
    "**Step - 5.1: Right tailed t-test:   Fail reject Null Hypothesis**  "
   ]
  },
  {
   "cell_type": "code",
   "execution_count": 34,
   "id": "e22e8ef7",
   "metadata": {},
   "outputs": [
    {
     "data": {
      "text/plain": [
       "Text(4.25, 0.007, 'x_bar')"
      ]
     },
     "execution_count": 34,
     "metadata": {},
     "output_type": "execute_result"
    },
    {
     "data": {
      "image/png": "[encoded data removed]",
      "text/plain": [
       "<Figure size 432x288 with 1 Axes>"
      ]
     },
     "metadata": {
      "needs_background": "light"
     },
     "output_type": "display_data"
    }
   ],
   "source": [
    "# Ploting the sampling distribution with rejection regions\n",
    "\n",
    "# Defining the x minimum and x maximum\n",
    "x_min = -10\n",
    "x_max = 10\n",
    "std = 0.85\n",
    "\n",
    "# Defining the sampling distribution mean and sampling distribution std\n",
    "mean = pop_mean\n",
    "# std = pop_std / (sample_size**0.5)\n",
    "\n",
    "\n",
    "# Ploting the graph and setting the x limits\n",
    "x = np.linspace(x_min, x_max)\n",
    "y = norm.pdf(x, mean, std)\n",
    "plt.xlim(x_min, x_max)\n",
    "plt.plot(x, y)\n",
    "\n",
    "\n",
    "# Computing the right critical value (Right tailed Test)\n",
    "t_critical_right = pop_mean + (t_critical * std)\n",
    "\n",
    "\n",
    "# Shading the right rejection region\n",
    "x1 = np.linspace(t_critical_right, x_max)\n",
    "y1 = norm.pdf(x1, mean, std)\n",
    "plt.fill_between(x1, y1, color='orange')\n",
    "\n",
    "\n",
    "# Ploting the sample mean and concluding the results \n",
    "plt.scatter(sample_mean, 0)\n",
    "plt.annotate(\"x_bar\", (sample_mean, 0.007))\n",
    "\n"
   ]
  },
  {
   "cell_type": "code",
   "execution_count": 36,
   "id": "0906818e",
   "metadata": {},
   "outputs": [
    {
     "name": "stdout",
     "output_type": "stream",
     "text": [
      "Fail to reject Null Hypothesis\n"
     ]
    }
   ],
   "source": [
    "# Conclusion using t test\n",
    "\n",
    "if(t_score > t_critical):\n",
    "    print(\"Reject Null Hypothesis\")\n",
    "else:\n",
    "    print(\"Fail to reject Null Hypothesis\")"
   ]
  },
  {
   "cell_type": "markdown",
   "id": "4fc6b060",
   "metadata": {},
   "source": [
    "Step - 5.2: Compute p-value"
   ]
  },
  {
   "cell_type": "markdown",
   "id": "74d71409",
   "metadata": {},
   "source": [
    "<b>Q-3: TATA has developed a better fuel management system for the SUV segment. They claim that with this system, on average the SUV's mileage is at least 15 km/litre? ~(Given that the population std is 1)~ </b>\n"
   ]
  },
  {
   "cell_type": "markdown",
   "id": "43471528",
   "metadata": {},
   "source": [
    "**Step - 1:  \n",
    "Alternate Hypothesis (Bold Claim): $$ H_1: \\mu < 15 $$\n",
    "Null Hypothesis (Status Quo): $$ H_0: \\mu \\geq 15 $$**"
   ]
  },
  {
   "cell_type": "markdown",
   "id": "74f2440c",
   "metadata": {},
   "source": [
    "\n",
    "**step - 2:**\n",
    "**Collect a sample of size n = 20** $$ [14.08, 14.13, 15.65, 13.78, 16.26, 14.97, 15.36, 15.81, 14.53, 16.79, 15.78, 16.98, 13.23, 15.43, 15.46, 13.88, 14.31, 14.41, 15.76, 15.38] $$\n",
    "\n",
    "**Compute sample mean**\n",
    "\n",
    "$$ \\bar{x} = 15.098 $$  "
   ]
  },
  {
   "cell_type": "code",
   "execution_count": 50,
   "id": "a5e089ba",
   "metadata": {},
   "outputs": [
    {
     "name": "stdout",
     "output_type": "stream",
     "text": [
      "15.098999999999998\n",
      "19.976179999999996 1.051377894736842\n",
      "1.0253671999517255\n",
      "3.872983346207417\n"
     ]
    },
    {
     "data": {
      "text/plain": [
       "0.5186292701360912"
      ]
     },
     "execution_count": 50,
     "metadata": {},
     "output_type": "execute_result"
    }
   ],
   "source": [
    "sal = [14.08,14.13,15.65,13.78,16.26,14.97,15.36,15.81,14.53,16.79,15.78,16.98,13.23,15.43,15.46,13.88,14.31,14.41,15.76,15.38]\n",
    "\n",
    "sum = 0\n",
    "\n",
    "for item in sal:\n",
    "    sum += item \n",
    "\n",
    "mean = sum/len(sal)\n",
    "print(mean)\n",
    "    \n",
    "sum = 0\n",
    "for item in sal:\n",
    "    sum += (item - mean)**2\n",
    "    \n",
    "var = sum/(len(sal)-1)    # variance\n",
    "\n",
    "print(sum,var)\n",
    "\n",
    "std = var**0.5\n",
    "print(std)    \n",
    "\n",
    "\n",
    "print(15**0.5)\n",
    "\n",
    "\n",
    "2.262 *(std/20**0.5)"
   ]
  },
  {
   "cell_type": "code",
   "execution_count": 51,
   "id": "eff5f7b8",
   "metadata": {},
   "outputs": [],
   "source": [
    "sample_size = 20\n",
    "sample_mean = 15.098\n",
    "pop_mean = 15\n",
    "pop_std = 1.02"
   ]
  },
  {
   "cell_type": "markdown",
   "id": "c3f6ecdb",
   "metadata": {},
   "source": [
    "**Step - 3:**\n",
    "\n",
    "**Compute Test Statistic:**$$ t = \\frac{\\bar{x} - \\mu}{S/\\sqrt[2]{n}}$$"
   ]
  },
  {
   "cell_type": "code",
   "execution_count": 52,
   "id": "67de9d79",
   "metadata": {},
   "outputs": [
    {
     "data": {
      "text/plain": [
       "0.4274267049020058"
      ]
     },
     "execution_count": 52,
     "metadata": {},
     "output_type": "execute_result"
    }
   ],
   "source": [
    "# t = t_score(sample_size, sample_mean, pop_mean, std)\n",
    "\n",
    "# print(t)\n",
    "t_score = (sample_mean- pop_mean)/((std)/(sample_size)**0.5)\n",
    "t_score"
   ]
  },
  {
   "cell_type": "markdown",
   "id": "179d7dc3",
   "metadata": {},
   "source": [
    "**Step - 4:\n",
    "Decide: $ \\alpha $**"
   ]
  },
  {
   "cell_type": "code",
   "execution_count": 53,
   "id": "3f8ebedc",
   "metadata": {},
   "outputs": [
    {
     "name": "stdout",
     "output_type": "stream",
     "text": [
      "1.729132811521367\n"
     ]
    }
   ],
   "source": [
    "# One Tail\n",
    "dof = sample_size-1\n",
    "confidence_level = 0.95\n",
    "\n",
    "alpha = 1 - confidence_level\n",
    "\n",
    "t_critical = t.ppf(1 - alpha, dof)\n",
    "\n",
    "print(t_critical)"
   ]
  },
  {
   "cell_type": "markdown",
   "id": "332a455a",
   "metadata": {},
   "source": [
    "**Step - 5.1: Left tailed t-test:      Fail to reject Null Hypothesis**"
   ]
  },
  {
   "cell_type": "code",
   "execution_count": 106,
   "id": "c3db8a0b",
   "metadata": {},
   "outputs": [
    {
     "data": {
      "text/plain": [
       "Text(99.5, 0.007, 'x_bar')"
      ]
     },
     "execution_count": 106,
     "metadata": {},
     "output_type": "execute_result"
    },
    {
     "data": {
      "image/png": "[encoded data removed]",
      "text/plain": [
       "<Figure size 432x288 with 1 Axes>"
      ]
     },
     "metadata": {
      "needs_background": "light"
     },
     "output_type": "display_data"
    }
   ],
   "source": [
    "# Ploting the sampling distribution with rejection regions\n",
    "\n",
    "# Defining the x minimum and x maximum\n",
    "x_min = -10\n",
    "x_max = 200\n",
    "\n",
    "\n",
    "# Defining the sampling distribution mean and sampling distribution std\n",
    "mean = pop_mean\n",
    "# std = pop_std / sample_size**0.5\n",
    "\n",
    "\n",
    "# Ploting the graph and setting the x limits\n",
    "x = np.linspace(x_min, x_max, 100)\n",
    "y = norm.pdf(x, mean, std)\n",
    "plt.xlim(x_min, x_max)\n",
    "plt.plot(x, y)\n",
    "\n",
    "\n",
    "# Computing the left and right critical values (Two tailed Test)\n",
    "t_critical_left = pop_mean + (-t_critical * std)\n",
    "t_critical_right = pop_mean + (t_critical * std)\n",
    "\n",
    "\n",
    "# Shading the left rejection region\n",
    "x1 = np.linspace(x_min,t_critical_left, 100)\n",
    "y1 = norm.pdf(x1, mean, std)\n",
    "plt.fill_between(x1, y1, color='orange')\n",
    "\n",
    "\n",
    "# # Shading the right rejection region\n",
    "# x2 = np.linspace(t_critical_right, x_max)\n",
    "# y2 = norm.pdf(x2, mean, std)\n",
    "# plt.fill_between(x2, y2, color='orange')\n",
    "\n",
    "\n",
    "# Ploting the sample mean and concluding the results \n",
    "plt.scatter(sample_mean, 0)\n",
    "plt.annotate(\"x_bar\", (sample_mean, 0.007))\n",
    "\n"
   ]
  },
  {
   "cell_type": "code",
   "execution_count": 46,
   "id": "add4f091",
   "metadata": {},
   "outputs": [
    {
     "name": "stdout",
     "output_type": "stream",
     "text": [
      "Fail to reject Null Hypothesis\n"
     ]
    }
   ],
   "source": [
    "# Conclusion using t test\n",
    "\n",
    "if(t_score > t_critical):\n",
    "    print(\"Reject Null Hypothesis\")\n",
    "else:\n",
    "    print(\"Fail to reject Null Hypothesis\")"
   ]
  },
  {
   "cell_type": "markdown",
   "id": "bd9ab687",
   "metadata": {},
   "source": [
    "<b>Q-4: You have developed a new Machine Learning Application and claim that on average it takes less than 100 ms to predict for any future datapoint. How do you convince your client about this claim? ~(Based on past data you know that the std is 10 ms)~ </b>"
   ]
  },
  {
   "cell_type": "markdown",
   "id": "bd1b1f9d",
   "metadata": {},
   "source": [
    "**Step - 1:  \n",
    "Alternate Hypothesis (Bold Claim): $$ H_1: \\mu < 100ms $$\n",
    "Null Hypothesis (Status Quo): $$ H_0: \\mu \\geq 100ms $$**\n"
   ]
  },
  {
   "cell_type": "markdown",
   "id": "9775775c",
   "metadata": {},
   "source": [
    "**Step - 2:** \n",
    "* Collect a sample of size n = 100\n",
    "* Compute sample mean $$ \\bar{x} \\ = \\ 99.5 $$\n"
   ]
  },
  {
   "cell_type": "code",
   "execution_count": 91,
   "id": "0a68d175",
   "metadata": {
    "scrolled": true
   },
   "outputs": [
    {
     "name": "stdout",
     "output_type": "stream",
     "text": [
      "[52, 105, 56, 97, 110, 149, 130, 135, 102, 72, 147, 123, 77, 131, 55, 84, 74, 90, 91, 129, 79, 116, 76, 120, 89, 67, 108, 143, 106, 112, 96, 70, 59, 137, 136, 51, 142, 98, 121, 107, 87, 99, 104, 141, 118, 145, 83, 94, 63, 134, 119, 101, 126, 148, 82, 139, 125, 144, 93, 140, 61, 103, 81, 80, 66, 146, 69, 71, 88, 62, 53, 111, 114, 86, 92, 85, 54, 122, 58, 132, 65, 138, 128, 73, 78, 127, 109, 113, 75, 50, 57, 64, 124, 68, 117, 60, 100, 95, 133, 115]\n",
      "99.5\n"
     ]
    }
   ],
   "source": [
    "import random\n",
    "\n",
    "randomlist = random.sample(range(50, 150), 100)\n",
    "print(randomlist)\n",
    "print(np.mean(randomlist))"
   ]
  },
  {
   "cell_type": "code",
   "execution_count": 92,
   "id": "a2bdece2",
   "metadata": {},
   "outputs": [
    {
     "name": "stdout",
     "output_type": "stream",
     "text": [
      "99.5\n",
      "83325.0 841.6666666666666\n",
      "29.011491975882016\n",
      "10.0\n"
     ]
    },
    {
     "data": {
      "text/plain": [
       "0.34868842797256727"
      ]
     },
     "execution_count": 92,
     "metadata": {},
     "output_type": "execute_result"
    }
   ],
   "source": [
    "sal = [52, 105, 56, 97, 110, 149, 130, 135, 102, 72, 147, 123, 77, 131, 55, 84, 74, 90, 91, 129, 79, 116, 76, 120, 89, 67, 108, 143, 106, 112, 96, 70, 59, 137, 136, 51, 142, 98, 121, 107, 87, 99, 104, 141, 118, 145, 83, 94, 63, 134, 119, 101, 126, 148, 82, 139, 125, 144, 93, 140, 61, 103, 81, 80, 66, 146, 69, 71, 88, 62, 53, 111, 114, 86, 92, 85, 54, 122, 58, 132, 65, 138, 128, 73, 78, 127, 109, 113, 75, 50, 57, 64, 124, 68, 117, 60, 100, 95, 133, 115]\n",
    "\n",
    "sum = 0\n",
    "\n",
    "for item in sal:\n",
    "    sum += item \n",
    "\n",
    "mean = sum/len(sal)\n",
    "print(mean)\n",
    "    \n",
    "sum = 0\n",
    "for item in sal:\n",
    "    sum += (item - mean)**2\n",
    "    \n",
    "var = sum/(len(sal)-1)    # variance\n",
    "\n",
    "print(sum,var)\n",
    "\n",
    "std = var**0.5\n",
    "print(std)    \n",
    "\n",
    "\n",
    "print(100**0.5)\n",
    "\n",
    "\n",
    "2.262 /(std/20**0.5)"
   ]
  },
  {
   "cell_type": "code",
   "execution_count": 93,
   "id": "4eab676d",
   "metadata": {},
   "outputs": [],
   "source": [
    "sample_size = 100\n",
    "sample_mean = 99.5\n",
    "pop_mean = 100\n",
    "std = 29.01"
   ]
  },
  {
   "cell_type": "markdown",
   "id": "68c72546",
   "metadata": {},
   "source": [
    "**Step - 3:**\n",
    "\n",
    "**Compute Test Statistic:**$$ t = \\frac{\\bar{x} - \\mu}{S/\\sqrt[2]{n}}$$"
   ]
  },
  {
   "cell_type": "code",
   "execution_count": 94,
   "id": "dd8c6c1d",
   "metadata": {},
   "outputs": [
    {
     "data": {
      "text/plain": [
       "-0.1723543605653223"
      ]
     },
     "execution_count": 94,
     "metadata": {},
     "output_type": "execute_result"
    }
   ],
   "source": [
    "# t = t_score(sample_size, sample_mean, pop_mean, std)\n",
    "\n",
    "# print(t)\n",
    "t_score = (sample_mean- pop_mean)/((std)/(sample_size)**0.5)\n",
    "t_score"
   ]
  },
  {
   "cell_type": "markdown",
   "id": "dcad7df1",
   "metadata": {},
   "source": [
    "**Step - 4:\n",
    "Decide: $ \\alpha $**"
   ]
  },
  {
   "cell_type": "code",
   "execution_count": 95,
   "id": "1131a293",
   "metadata": {},
   "outputs": [
    {
     "name": "stdout",
     "output_type": "stream",
     "text": [
      "1.6603911559963895\n"
     ]
    }
   ],
   "source": [
    "# One Tail\n",
    "dof = sample_size-1\n",
    "confidence_level = 0.95\n",
    "\n",
    "alpha = 1 - confidence_level\n",
    "\n",
    "t_critical = t.ppf(1 - alpha, dof)\n",
    "\n",
    "print(t_critical)"
   ]
  },
  {
   "cell_type": "markdown",
   "id": "2ec8bf98",
   "metadata": {},
   "source": [
    "**Step - 5.1: left tailed z-test:    Fail to reject null Hypothesis**\n"
   ]
  },
  {
   "cell_type": "code",
   "execution_count": 96,
   "id": "5707bc53",
   "metadata": {},
   "outputs": [
    {
     "data": {
      "text/plain": [
       "Text(99.5, 0.0007, 'x_bar')"
      ]
     },
     "execution_count": 96,
     "metadata": {},
     "output_type": "execute_result"
    },
    {
     "data": {
      "image/png": "[encoded data removed]",
      "text/plain": [
       "<Figure size 432x288 with 1 Axes>"
      ]
     },
     "metadata": {
      "needs_background": "light"
     },
     "output_type": "display_data"
    }
   ],
   "source": [
    "# Ploting the sampling distribution with rejection regions\n",
    "\n",
    "# Defining the x minimum and x maximum\n",
    "x_min = 10\n",
    "x_max = 200\n",
    "\n",
    "\n",
    "# Defining the sampling distribution mean and sampling distribution std\n",
    "mean = pop_mean\n",
    "# std = pop_std / sample_size**0.5\n",
    "\n",
    "\n",
    "# Ploting the graph and setting the x limits\n",
    "x = np.linspace(x_min, x_max, 100)\n",
    "y = norm.pdf(x, mean, std)\n",
    "plt.xlim(x_min, x_max)\n",
    "plt.plot(x, y)\n",
    "\n",
    "\n",
    "# Computing the left and right critical values (Two tailed Test)\n",
    "t_critical_left = pop_mean + (-t_critical * std)\n",
    "t_critical_right = pop_mean + (t_critical * std)\n",
    "\n",
    "\n",
    "# Shading the left rejection region\n",
    "x1 = np.linspace(x_min,t_critical_left, 50)\n",
    "y1 = norm.pdf(x1, mean, std)\n",
    "plt.fill_between(x1, y1, color='orange')\n",
    "\n",
    "\n",
    "\n",
    "# Ploting the sample mean and concluding the results \n",
    "plt.scatter(sample_mean, 0)\n",
    "plt.annotate(\"x_bar\", (sample_mean, 0.0007))\n"
   ]
  },
  {
   "cell_type": "code",
   "execution_count": 97,
   "id": "7a5650dc",
   "metadata": {},
   "outputs": [
    {
     "name": "stdout",
     "output_type": "stream",
     "text": [
      "Fail to reject Null Hypothesis\n"
     ]
    }
   ],
   "source": [
    "# Conclusion using t test\n",
    "\n",
    "if(t_score > t_critical):\n",
    "    print(\"Reject Null Hypothesis\")\n",
    "else:\n",
    "    print(\"Fail to reject Null Hypothesis\")"
   ]
  },
  {
   "cell_type": "code",
   "execution_count": null,
   "id": "2e4771ad",
   "metadata": {},
   "outputs": [],
   "source": []
  },
  {
   "cell_type": "code",
   "execution_count": null,
   "id": "68f5945d",
   "metadata": {},
   "outputs": [],
   "source": []
  },
  {
   "cell_type": "code",
   "execution_count": null,
   "id": "03173f17",
   "metadata": {},
   "outputs": [],
   "source": []
  },
  {
   "cell_type": "code",
   "execution_count": null,
   "id": "41ca2286",
   "metadata": {},
   "outputs": [],
   "source": []
  },
  {
   "cell_type": "code",
   "execution_count": null,
   "id": "0f4098fb",
   "metadata": {},
   "outputs": [],
   "source": []
  },
  {
   "cell_type": "code",
   "execution_count": null,
   "id": "01b93451",
   "metadata": {},
   "outputs": [],
   "source": []
  },
  {
   "cell_type": "code",
   "execution_count": null,
   "id": "04382556",
   "metadata": {},
   "outputs": [],
   "source": []
  },
  {
   "cell_type": "code",
   "execution_count": null,
   "id": "31a52bbd",
   "metadata": {},
   "outputs": [],
   "source": []
  },
  {
   "cell_type": "code",
   "execution_count": null,
   "id": "f5bc49e4",
   "metadata": {},
   "outputs": [],
   "source": []
  },
  {
   "cell_type": "code",
   "execution_count": null,
   "id": "de14a53b",
   "metadata": {},
   "outputs": [],
   "source": []
  },
  {
   "cell_type": "code",
   "execution_count": null,
   "id": "e18bc1a2",
   "metadata": {},
   "outputs": [],
   "source": []
  },
  {
   "cell_type": "code",
   "execution_count": null,
   "id": "1e6fc1e9",
   "metadata": {},
   "outputs": [],
   "source": []
  },
  {
   "cell_type": "code",
   "execution_count": null,
   "id": "db15d6c5",
   "metadata": {},
   "outputs": [],
   "source": []
  }
 ],
 "metadata": {
  "kernelspec": {
   "display_name": "Python 3",
   "language": "python",
   "name": "python3"
  },
  "language_info": {
   "codemirror_mode": {
    "name": "ipython",
    "version": 3
   },
   "file_extension": ".py",
   "mimetype": "text/x-python",
   "name": "python",
   "nbconvert_exporter": "python",
   "pygments_lexer": "ipython3",
   "version": "3.8.8"
  }
 },
 "nbformat": 4,
 "nbformat_minor": 5
}
