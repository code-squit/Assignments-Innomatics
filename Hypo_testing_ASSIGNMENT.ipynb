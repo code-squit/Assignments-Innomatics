{
 "cells": [
  {
   "cell_type": "code",
   "execution_count": 1,
   "id": "7ca14660",
   "metadata": {},
   "outputs": [],
   "source": [
    "import matplotlib.pyplot as plt\n",
    "import numpy as np\n",
    "from scipy.stats import t\n",
    "from scipy.stats import norm"
   ]
  },
  {
   "cell_type": "markdown",
   "id": "dcc383ee",
   "metadata": {},
   "source": [
    "<b>Q-1: Pista House selling Hyderabadi Chicken Dum biryani claims that each parcel packet has 500 grams of biryani (also mentioned on the label of packet). You are sceptic of their claims and believe that on average each packet does not contain 500 grams of biryani. How do you prove your claim?"
   ]
  },
  {
   "cell_type": "markdown",
   "id": "b0730e51",
   "metadata": {},
   "source": [
    "**Step - 1:  \n",
    "Alternate Hypothesis (Bold claim): $$ H_1: \\ \\mu \\neq 500 $$\n",
    "Null Hypothesis (Status Quo): $$ H_0: \\ \\mu = 500 $$**"
   ]
  },
  {
   "cell_type": "markdown",
   "id": "54fa875a",
   "metadata": {},
   "source": [
    "**Step - 2:  \n",
    " Collect a sample of size n = 10 $$ [490, 220, 470, 500, 495, 496, 496, 498, 508, 480] $$\n",
    " Compute sample mean $$ \\bar{x} \\ = 465.3 $$**\n"
   ]
  },
  {
   "cell_type": "code",
   "execution_count": 2,
   "id": "104dc375",
   "metadata": {},
   "outputs": [
    {
     "data": {
      "text/plain": [
       "465.3"
      ]
     },
     "execution_count": 2,
     "metadata": {},
     "output_type": "execute_result"
    }
   ],
   "source": [
    "# Calculating sample mean\n",
    "\n",
    "sample = [490, 220, 470, 500, 495, 496, 496, 498, 508, 480]\n",
    "\n",
    "sample_mean=sum(sample)/len(sample)\n",
    "\n",
    "sample_mean"
   ]
  },
  {
   "cell_type": "code",
   "execution_count": 3,
   "id": "36ff9f24",
   "metadata": {},
   "outputs": [
    {
     "data": {
      "text/plain": [
       "86.84859110991827"
      ]
     },
     "execution_count": 3,
     "metadata": {},
     "output_type": "execute_result"
    }
   ],
   "source": [
    "# Calculating sample standard deviation\n",
    "\n",
    "variance = sum([((x - sample_mean) ** 2) for x in sample]) / (len(sample)-1)\n",
    "\n",
    "sample_std = variance ** 0.5\n",
    "\n",
    "sample_std"
   ]
  },
  {
   "cell_type": "code",
   "execution_count": 4,
   "id": "77ddc0fe",
   "metadata": {},
   "outputs": [],
   "source": [
    "# Defining the sample and population parameters\n",
    "\n",
    "sample_size = 10\n",
    "sample_mean = 465.3\n",
    "pop_mean = 500\n",
    "sample_std=86.84"
   ]
  },
  {
   "cell_type": "markdown",
   "id": "1c5e43b3",
   "metadata": {},
   "source": [
    "**Step - 3:\n",
    "Compute Test Statistic: $$ t = \\frac{\\bar{x} - \\mu}{s/\\sqrt[2]{n}}$$**"
   ]
  },
  {
   "cell_type": "code",
   "execution_count": 5,
   "id": "df2896f5",
   "metadata": {},
   "outputs": [],
   "source": [
    "# t_score for sampling distributions\n",
    "\n",
    "def t_score(sample_size, sample_mean, pop_mean, pop_std):\n",
    "    numerator = sample_mean - pop_mean\n",
    "    denomenator = sample_std / sample_size**0.5\n",
    "    return numerator / denomenator"
   ]
  },
  {
   "cell_type": "code",
   "execution_count": 6,
   "id": "cb784340",
   "metadata": {},
   "outputs": [
    {
     "name": "stdout",
     "output_type": "stream",
     "text": [
      "<scipy.stats._continuous_distns.t_gen object at 0x00000138248FB550>\n"
     ]
    }
   ],
   "source": [
    "# Calculating the t-score\n",
    "\n",
    "t_Score = t_score(sample_size, sample_mean, pop_mean, sample_std)\n",
    "#t_sc=t\n",
    "\n",
    "print(t)"
   ]
  },
  {
   "cell_type": "markdown",
   "id": "b224183b",
   "metadata": {},
   "source": [
    "**Step - 4:\n",
    "Decide $ \\alpha $ or significance level      $$ \\alpha = 1-0.95 = 0.5 $$<br>\n",
    "    $$\\alpha/2 = 0.5/2 = 0.25 $$**"
   ]
  },
  {
   "cell_type": "code",
   "execution_count": 7,
   "id": "cba9d758",
   "metadata": {},
   "outputs": [
    {
     "name": "stdout",
     "output_type": "stream",
     "text": [
      "2.2621571627409915\n"
     ]
    }
   ],
   "source": [
    "# Two Tail - Calculating the t-critical value\n",
    "\n",
    "from scipy.stats import t\n",
    "dof = sample_size-1\n",
    "confidence_level = 0.95\n",
    "alpha = 1-(confidence_level)\n",
    "t_critical = t.ppf(1-alpha/2, dof)\n",
    "print(t_critical)"
   ]
  },
  {
   "cell_type": "markdown",
   "id": "0682c04e",
   "metadata": {},
   "source": [
    "<b> Step - 5: Right tailed t-test\n",
    "    two-tailed t test:\n",
    "    "
   ]
  },
  {
   "cell_type": "code",
   "execution_count": 8,
   "id": "75388d84",
   "metadata": {},
   "outputs": [
    {
     "name": "stdout",
     "output_type": "stream",
     "text": [
      "Fail to reject Null Hypothesis\n"
     ]
    }
   ],
   "source": [
    "# Conclusion using t test\n",
    "\n",
    "if (t_Score > t_critical):\n",
    "    print(\"Reject Null Hypothesis\")\n",
    "else:\n",
    "    print(\"Fail to reject Null Hypothesis\")"
   ]
  },
  {
   "cell_type": "code",
   "execution_count": 9,
   "id": "2ccec95d",
   "metadata": {},
   "outputs": [
    {
     "data": {
      "text/plain": [
       "Text(465.3, 0.0007, 'x_bar')"
      ]
     },
     "execution_count": 9,
     "metadata": {},
     "output_type": "execute_result"
    },
    {
     "data": {
      "image/png": "[encoded data removed]",
      "text/plain": [
       "<Figure size 432x288 with 1 Axes>"
      ]
     },
     "metadata": {
      "needs_background": "light"
     },
     "output_type": "display_data"
    }
   ],
   "source": [
    "# Ploting the sampling distribution with rejection regions\n",
    "import numpy as np\n",
    "# Defining the x minimum and x maximum\n",
    "x_min = 200\n",
    "x_max = 1000\n",
    "\n",
    "\n",
    "# Defining the sampling distribution mean and sampling distribution std\n",
    "mean = pop_mean\n",
    "std = sample_std \n",
    "\n",
    "\n",
    "# Ploting the graph and setting the x limits\n",
    "x = np.linspace(x_min, x_max, 100)\n",
    "y = norm.pdf(x, mean, std)\n",
    "plt.xlim(x_min, x_max)\n",
    "plt.plot(x, y)\n",
    "\n",
    "\n",
    "# Computing the left and right critical values (Two tailed Test)\n",
    "t_critical_left = pop_mean + (-t_critical * std)\n",
    "t_critical_right = pop_mean + (t_critical * std)\n",
    "\n",
    "\n",
    "# Shading the left rejection region\n",
    "x1 = np.linspace(x_min, t_critical_left, 100)\n",
    "y1 = norm.pdf(x1, mean, std)\n",
    "plt.fill_between(x1, y1, color='orange')\n",
    "\n",
    "\n",
    "# Shading the right rejection region\n",
    "x2 = np.linspace(t_critical_right, x_max, 100)\n",
    "y2 = norm.pdf(x2, mean, std)\n",
    "plt.fill_between(x2, y2, color='orange')\n",
    "\n",
    "\n",
    "# Ploting the sample mean and concluding the results \n",
    "plt.scatter(sample_mean, 0)\n",
    "plt.annotate(\"x_bar\", (sample_mean, 0.0007))\n",
    "\n",
    "\n",
    "# In this case sample mean falls in the acceptance region\n",
    "# i.e. here we fail to reject the Null Hypothesis"
   ]
  },
  {
   "cell_type": "code",
   "execution_count": null,
   "id": "08c2189c",
   "metadata": {},
   "outputs": [],
   "source": []
  },
  {
   "cell_type": "markdown",
   "id": "e4acc1ad",
   "metadata": {},
   "source": [
    "<b> Q-2: You have developed a new Natural Language Processing Algorithms and done a user study. You claim that the average rating given by the users is greater than 4 on a scale of 1 to 5. How do you prove this to your client?"
   ]
  },
  {
   "cell_type": "markdown",
   "id": "e868bff3",
   "metadata": {},
   "source": [
    "<b>Q-2: You have developed a new Natural Language Processing Algorithms and done a user study. You claim that the average rating given by the users is greater than 4 on a scale of 1 to 5. How do you prove this to your client? \n",
    "\n",
    "Step - 1:  \n",
    "Alternate Hypothesis (Bold Claim): $$ H_1:  \\mu > 4  $$\n",
    "Null Hypothesis (Status Quo): $$ H_0:  \\mu \\leq 4 $$\n",
    "\n",
    "Step - 2:  \n",
    "* Collect a sample of size n = 20 $$ [4, 3, 5, 4, 5, 3, 5, 5, 4, 2, 4, 5, 5, 4, 4, 5, 4, 5, 4, 5] $$\n",
    "* Compute sample mean $$ \\bar{x} \\ = 4.25 $$\n",
    "\n",
    "Step - 3:\n",
    "Compute Test Statistic: $$ t = \\frac{\\bar{x} - \\mu}{S/\\sqrt[2]{n}}$$\n",
    "\n",
    "Step - 4:\n",
    "Decide $ \\alpha $\n",
    "\n",
    "Step - 5.1: one tailed t-test: $$ reject \\ H_0 \\ if ? $$\n",
    "\n",
    "Step - 5.2: Compute p-value\n"
   ]
  },
  {
   "cell_type": "code",
   "execution_count": 10,
   "id": "53323b78",
   "metadata": {},
   "outputs": [],
   "source": [
    "# calculating the sample mean\n",
    "\n",
    "l=[4,3,5,4,5,3,5,5,4,2,4,5,5,4,4,5,4,5,4,5]\n",
    "\n",
    "l_mean=sum(l)/len(l)"
   ]
  },
  {
   "cell_type": "code",
   "execution_count": 11,
   "id": "1cba276f",
   "metadata": {},
   "outputs": [
    {
     "data": {
      "text/plain": [
       "0.8506963092234007"
      ]
     },
     "execution_count": 11,
     "metadata": {},
     "output_type": "execute_result"
    }
   ],
   "source": [
    "# Calculating sample standard deviation\n",
    "\n",
    "variance = sum([((x -l_mean) ** 2) for x in l]) / (len(l)-1)\n",
    "\n",
    "sample_std = variance ** 0.5\n",
    "\n",
    "sample_std"
   ]
  },
  {
   "cell_type": "code",
   "execution_count": 12,
   "id": "b5374d48",
   "metadata": {},
   "outputs": [],
   "source": [
    "# Defining the sample and population parameters\n",
    "\n",
    "sample_size = 20\n",
    "sample_mean = 4.25\n",
    "pop_mean = 4\n",
    "sample_std = 0.85"
   ]
  },
  {
   "cell_type": "code",
   "execution_count": 13,
   "id": "f312a595",
   "metadata": {},
   "outputs": [
    {
     "name": "stdout",
     "output_type": "stream",
     "text": [
      "1.3153341044116411\n"
     ]
    }
   ],
   "source": [
    "# Calculating the t-score\n",
    "\n",
    "t = t_score(sample_size, sample_mean, pop_mean, sample_std)\n",
    "\n",
    "print(t)"
   ]
  },
  {
   "cell_type": "code",
   "execution_count": 14,
   "id": "3f2a9cc1",
   "metadata": {},
   "outputs": [
    {
     "name": "stdout",
     "output_type": "stream",
     "text": [
      "1.729132811521367\n"
     ]
    }
   ],
   "source": [
    "# One Tail - Calculating the t-critical value\n",
    "from scipy.stats import t\n",
    "dof = 20-1\n",
    "\n",
    "confidence_level = 0.95\n",
    "\n",
    "alpha = 1 - (confidence_level)\n",
    "\n",
    "t_critical = t.ppf(1 - alpha, dof)\n",
    "\n",
    "print(t_critical)"
   ]
  },
  {
   "cell_type": "code",
   "execution_count": 15,
   "id": "2c6b4e99",
   "metadata": {},
   "outputs": [
    {
     "data": {
      "text/plain": [
       "Text(4.25, 0.0007, 'x_bar')"
      ]
     },
     "execution_count": 15,
     "metadata": {},
     "output_type": "execute_result"
    },
    {
     "data": {
      "image/png": "[encoded data removed]",
      "text/plain": [
       "<Figure size 432x288 with 1 Axes>"
      ]
     },
     "metadata": {
      "needs_background": "light"
     },
     "output_type": "display_data"
    }
   ],
   "source": [
    "# Ploting the sampling distribution with rejection regions\n",
    "import numpy as np\n",
    "# Defining the x minimum and x maximum\n",
    "x_min = -5\n",
    "x_max = 15\n",
    "\n",
    "\n",
    "# Defining the sampling distribution mean and sampling distribution std\n",
    "mean = pop_mean\n",
    "std = sample_std \n",
    "\n",
    "\n",
    "# Ploting the graph and setting the x limits\n",
    "x = np.linspace(x_min, x_max, 100)\n",
    "y = norm.pdf(x, mean, std)\n",
    "plt.xlim(x_min, x_max)\n",
    "plt.plot(x, y)\n",
    "\n",
    "\n",
    "# Computing the left and right critical values (Two tailed Test)\n",
    "t_critical_left = pop_mean + (-t_critical * std)\n",
    "t_critical_right = pop_mean + (t_critical * std)\n",
    "\n",
    "\n",
    "# Shading the left rejection region\n",
    "x1 = np.linspace(x_min, t_critical_left, 100)\n",
    "y1 = norm.pdf(x1, mean, std)\n",
    "plt.fill_between(x1, y1, color='orange')\n",
    "\n",
    "\n",
    "# Shading the right rejection region\n",
    "x2 = np.linspace(t_critical_right, x_max, 100)\n",
    "y2 = norm.pdf(x2, mean, std)\n",
    "plt.fill_between(x2, y2, color='orange')\n",
    "\n",
    "\n",
    "# Ploting the sample mean and concluding the results \n",
    "plt.scatter(sample_mean, 0)\n",
    "plt.annotate(\"x_bar\", (sample_mean, 0.0007))\n",
    "\n",
    "\n",
    "# In this case sample mean falls in the acceptance region\n",
    "# i.e. here we fail to reject the Null Hypothesis"
   ]
  },
  {
   "cell_type": "code",
   "execution_count": 16,
   "id": "d99d756d",
   "metadata": {},
   "outputs": [
    {
     "name": "stdout",
     "output_type": "stream",
     "text": [
      "Fail to reject Null Hypothesis\n"
     ]
    }
   ],
   "source": [
    "# Conclusion using t test\n",
    "t_critical = 1.7291\n",
    "t = 1.282\n",
    "if(np.abs(t) > t_critical):\n",
    "    print(\"Reject Null Hypothesis\")\n",
    "else:\n",
    "    print(\"Fail to reject Null Hypothesis\")"
   ]
  },
  {
   "cell_type": "code",
   "execution_count": null,
   "id": "9abc6e85",
   "metadata": {},
   "outputs": [],
   "source": []
  },
  {
   "cell_type": "markdown",
   "id": "86da2761",
   "metadata": {},
   "source": [
    "<b>Q-3: TATA has developed a better fuel management system for the SUV segment. They claim that with this system, on average the SUV's mileage is at least 15 km/litre?</b>\n",
    "\n",
    "Step - 1:  \n",
    "Alternate Hypothesis (Bold Claim): $$ H_1: \\mu< 15 $$\n",
    "Null Hypothesis (Status Quo): $$ H_0: \\mu \\geq 15 $$\n",
    "\n",
    "Step - 2:  \n",
    "* Collect a sample of size n = 20 $$ [14.08, 14.13, 15.65, 13.78, 16.26, 14.97, 15.36, 15.81, 14.53, 16.79, 15.78, 16.98, 13.23, 15.43, 15.46, 13.88, 14.31, 14.41, 15.76, 15.38] $$\n",
    "* Compute sample mean $$ \\bar{x} \\ = 15.09\\  $$\n",
    "\n",
    "Step - 3:\n",
    "Compute Test Statistic: $$ t = \\frac{\\bar{x} - \\mu}{S/\\sqrt[2]{n}}$$\n",
    "\n",
    "Step - 4:\n",
    "Decide $ \\alpha $\n",
    "\n",
    "Step - 5.1: ? tailed t-test: $$ reject \\ H_0 \\ if \\ ? $$\n",
    "\n",
    "Step - 5.2: Compute p-value"
   ]
  },
  {
   "cell_type": "code",
   "execution_count": 17,
   "id": "4d84ab0d",
   "metadata": {},
   "outputs": [
    {
     "name": "stdout",
     "output_type": "stream",
     "text": [
      "15.098999999999998\n"
     ]
    }
   ],
   "source": [
    "# comupute the sample mean\n",
    "sample_=[14.08,14.13,15.65,13.78,16.26,14.97,15.36,15.81,14.53,16.79,15.78,16.98,13.23,15.43,15.46,13.88,14.31,14.41,15.76,15.38]\n",
    "mean_sample_ = sum(sample_)/(len(sample_))\n",
    "print(mean_sample_)"
   ]
  },
  {
   "cell_type": "code",
   "execution_count": 18,
   "id": "07952bab",
   "metadata": {},
   "outputs": [
    {
     "data": {
      "text/plain": [
       "1.0253671999517255"
      ]
     },
     "execution_count": 18,
     "metadata": {},
     "output_type": "execute_result"
    }
   ],
   "source": [
    "# Calculating sample standard deviation\n",
    "\n",
    "variance = sum([((x -mean_sample_) ** 2) for x in sample_]) / (len(sample_)-1)\n",
    "\n",
    "sample_std = variance ** 0.5\n",
    "\n",
    "sample_std"
   ]
  },
  {
   "cell_type": "code",
   "execution_count": 19,
   "id": "3456878e",
   "metadata": {},
   "outputs": [],
   "source": [
    "# Defining the sample and population parameters\n",
    "\n",
    "sample_size = 20\n",
    "sample_mean = 15.09\n",
    "pop_mean = 15\n",
    "sample_std =  1.025"
   ]
  },
  {
   "cell_type": "code",
   "execution_count": 20,
   "id": "2e4b4f43",
   "metadata": {},
   "outputs": [
    {
     "name": "stdout",
     "output_type": "stream",
     "text": [
      "1.729132811521367\n"
     ]
    }
   ],
   "source": [
    "# One tail\n",
    "from scipy.stats import t\n",
    "confidence_level = 0.95\n",
    "\n",
    "alpha = 1 - confidence_level\n",
    "\n",
    "# For sample size = 20 => degrees of freedom = 20-1 = 19\n",
    "t_critical = t.ppf(1-alpha, df = 19) \n",
    "\n",
    "print(t_critical)"
   ]
  },
  {
   "cell_type": "code",
   "execution_count": 21,
   "id": "0ed1fecc",
   "metadata": {},
   "outputs": [
    {
     "data": {
      "text/plain": [
       "Text(15.09, 0.0007, 'x_bar')"
      ]
     },
     "execution_count": 21,
     "metadata": {},
     "output_type": "execute_result"
    },
    {
     "data": {
      "image/png": "[encoded data removed]",
      "text/plain": [
       "<Figure size 432x288 with 1 Axes>"
      ]
     },
     "metadata": {
      "needs_background": "light"
     },
     "output_type": "display_data"
    }
   ],
   "source": [
    "# Ploting the sampling distribution with rejection regions\n",
    "import numpy as np\n",
    "# Defining the x minimum and x maximum\n",
    "x_min = 10\n",
    "x_max = 30\n",
    "\n",
    "\n",
    "# Defining the sampling distribution mean and sampling distribution std\n",
    "mean = pop_mean\n",
    "std = sample_std \n",
    "\n",
    "\n",
    "# Ploting the graph and setting the x limits\n",
    "x = np.linspace(x_min, x_max, 100)\n",
    "y = norm.pdf(x, mean, std)\n",
    "plt.xlim(x_min, x_max)\n",
    "plt.plot(x, y)\n",
    "\n",
    "\n",
    "# Computing the left and right critical values (Two tailed Test)\n",
    "t_critical_left = pop_mean + (-t_critical * std)\n",
    "t_critical_right = pop_mean + (t_critical * std)\n",
    "\n",
    "\n",
    "# Shading the left rejection region\n",
    "x1 = np.linspace(x_min, t_critical_left, 100)\n",
    "y1 = norm.pdf(x1, mean, std)\n",
    "plt.fill_between(x1, y1, color='orange')\n",
    "\n",
    "\n",
    "# Shading the right rejection region\n",
    "x2 = np.linspace(t_critical_right, x_max, 100)\n",
    "y2 = norm.pdf(x2, mean, std)\n",
    "plt.fill_between(x2, y2, color='orange')\n",
    "\n",
    "\n",
    "# Ploting the sample mean and concluding the results \n",
    "plt.scatter(sample_mean, 0)\n",
    "plt.annotate(\"x_bar\", (sample_mean, 0.0007))\n",
    "\n",
    "\n",
    "# In this case sample mean falls in the acceptance region\n",
    "# i.e. here we fail to reject the Null Hypothesis"
   ]
  },
  {
   "cell_type": "code",
   "execution_count": 22,
   "id": "4ee420b2",
   "metadata": {},
   "outputs": [
    {
     "name": "stdout",
     "output_type": "stream",
     "text": [
      "Fail to reject Null Hypothesis\n"
     ]
    }
   ],
   "source": [
    "# Conclusion using t test\n",
    "t_critical = 1.7291\n",
    "t = 0.42\n",
    "if(np.abs(t) > t_critical):\n",
    "    print(\"Reject Null Hypothesis\")\n",
    "else:\n",
    "    print(\"Fail to reject Null Hypothesis\")"
   ]
  },
  {
   "cell_type": "code",
   "execution_count": null,
   "id": "4ccc6ea3",
   "metadata": {},
   "outputs": [],
   "source": []
  },
  {
   "cell_type": "markdown",
   "id": "cb1a3e7b",
   "metadata": {},
   "source": [
    "**Q-4: You have developed a new Machine Learning Application and claim that on average it takes less than 100 ms to predict for any future datapoint. How do you convince your client about this claim?  (Assume sample size = 100 and sample mean = 97.5**)\n",
    "\n",
    "**Step1:**\n",
    "\n",
    "Null Hypothesis : $ H_0 {\\geq} $ 100\n",
    "\n",
    "Alternate Hypothesis : $ H_1 < $  100\n",
    "\n",
    "**Step2 :**\n",
    "\n",
    "Collect the samples of Size n=100\n",
    "\n",
    "\n",
    "\n",
    "\n",
    "sample mean($ \\bar{x} $) \n",
    "\n",
    "$ \\bar{x} = \\frac{sum  of values}{Total no.of values} $\n",
    "\n",
    "$ \\bar{x}  $ = 97.5\n",
    "\n",
    "**Step3 :**\n",
    "\n",
    "If the population variance is unknown($ \\sigma $) t-test is used\n",
    "\n",
    "$ t^{*}$ = $ \\frac{\\bar{x}- \\mu}{S/\\sqrt{n}} $\n",
    "\n",
    "$ t^{*}$ = -2.5\n",
    "\n",
    "**Step4:**\n",
    "\n",
    "Decide siginficance level test type\n",
    "\n",
    "significance Level $ \\alpha $ = 5%\n",
    "\n",
    "Test type = left Tailed Test\n",
    "\n",
    "**Step5:**\n",
    "\n",
    "\n",
    "Determine t_critical Values using t_table\n",
    "\n",
    "for $ \\alpha $ = 5%, dof = 19 $ \\longrightarrow t_{critical}$ = 1.6448\n"
   ]
  },
  {
   "cell_type": "code",
   "execution_count": 23,
   "id": "7f56ccfa",
   "metadata": {},
   "outputs": [],
   "source": [
    "import random\n",
    "import numpy as np"
   ]
  },
  {
   "cell_type": "code",
   "execution_count": 24,
   "id": "cfa5d893",
   "metadata": {},
   "outputs": [
    {
     "name": "stdout",
     "output_type": "stream",
     "text": [
      "[53, 109, 118, 59, 129, 138, 75, 87, 92, 69, 148, 112, 90, 70, 110, 105, 80, 134, 147, 63, 107, 97, 73, 78, 50, 91, 71, 76, 66, 144, 72, 104, 55, 56, 51, 115, 57, 139, 140, 145, 126, 136, 98, 121, 130, 113, 54, 137, 101, 116, 135, 96, 106, 94, 88, 89, 117, 65, 128, 119, 100, 132, 79, 149, 60, 141, 127, 52, 103, 133, 93, 142, 84, 68, 81, 120, 108, 83, 99, 124, 85, 102, 82, 74, 122, 64, 95, 131, 111, 58, 114, 123, 143, 146, 125, 61, 67, 62, 86, 77]\n",
      "99.5\n"
     ]
    }
   ],
   "source": [
    "random_list = random.sample(range(50, 150), 100)\n",
    "print(random_list)\n",
    "print(np.mean(random_list))"
   ]
  },
  {
   "cell_type": "code",
   "execution_count": 25,
   "id": "84ac55cd",
   "metadata": {},
   "outputs": [
    {
     "name": "stdout",
     "output_type": "stream",
     "text": [
      "Standard Deviation of sample is 29.011491975882016 \n"
     ]
    }
   ],
   "source": [
    "# Python code to demonstrate stdev() function\n",
    "\n",
    "# importing Statistics module\n",
    "import statistics\n",
    "\n",
    "# creating a simple data - set\n",
    "samples = [55, 108, 95, 61, 140, 111, 59, 69, 73, 71, 77, 136, 83, 114, 79, 148, 124, 105, 132, 141, 110, 106, 58, 100, 56, 72, 54, 84, 80, 138, 91, 87, 143, 127, 115, 76, 121, 64, 102, 147, 119, 128, 116, 51, 57, 92, 118, 68, 112, 139, 78, 101, 53, 82, 103, 60, 86, 75, 131, 120, 134, 74, 62, 66, 96, 117, 52, 129, 145, 135, 90, 67, 50, 93, 104, 126, 99, 98, 97, 70, 94, 89, 81, 130, 123, 137, 109, 65, 85, 149, 113, 146, 142, 133, 63, 107, 88, 144, 122, 125]\n",
    "# Prints standard deviation\n",
    "\n",
    "print(\"Standard Deviation of sample is % s \"% (statistics.stdev(samples)))\n"
   ]
  },
  {
   "cell_type": "code",
   "execution_count": 26,
   "id": "30a0c2d3",
   "metadata": {},
   "outputs": [
    {
     "name": "stdout",
     "output_type": "stream",
     "text": [
      "-0.1723543605653223\n"
     ]
    }
   ],
   "source": [
    "size_samples = 100\n",
    "mean_samples = 99.5\n",
    "mean_population = 100\n",
    "std_samples = 29.01\n",
    "t_score = (mean_samples-mean_population)/(std_samples/(size_samples)**0.5)\n",
    "print(t_score)"
   ]
  },
  {
   "cell_type": "code",
   "execution_count": 27,
   "id": "99fde3a1",
   "metadata": {},
   "outputs": [],
   "source": [
    "from scipy.stats import norm\n",
    "import matplotlib.pyplot as plt"
   ]
  },
  {
   "cell_type": "code",
   "execution_count": 28,
   "id": "4fd7f294",
   "metadata": {},
   "outputs": [
    {
     "name": "stdout",
     "output_type": "stream",
     "text": [
      "1.6448536269514722\n"
     ]
    }
   ],
   "source": [
    "confidence_level = 0.95\n",
    "\n",
    "alpha = 1 - confidence_level\n",
    "\n",
    "t_critical = norm.ppf(1 - alpha)\n",
    "\n",
    "print(t_critical)"
   ]
  },
  {
   "cell_type": "code",
   "execution_count": 29,
   "id": "c12f3f93",
   "metadata": {},
   "outputs": [
    {
     "name": "stdout",
     "output_type": "stream",
     "text": [
      "52.28279628213779\n"
     ]
    },
    {
     "data": {
      "text/plain": [
       "Text(99.5, 0.0007, 'x_bar')"
      ]
     },
     "execution_count": 29,
     "metadata": {},
     "output_type": "execute_result"
    },
    {
     "data": {
      "image/png": "[encoded data removed]",
      "text/plain": [
       "<Figure size 432x288 with 1 Axes>"
      ]
     },
     "metadata": {
      "needs_background": "light"
     },
     "output_type": "display_data"
    }
   ],
   "source": [
    "x_min = 10\n",
    "x_max = 200\n",
    "x = np.linspace(x_min, x_max)\n",
    "y = norm.pdf(x, mean_population, std_samples)\n",
    "plt.xlim(x_min, x_max, 100)\n",
    "plt.plot(x, y)\n",
    "\n",
    "# Computing the left critical values (one tailed Test)\n",
    "t_critical_left = mean_population + (-t_critical * std_samples)\n",
    "print(t_critical_left)\n",
    "\n",
    "\n",
    "\n",
    "# Shading the left rejection region\n",
    "x1 = np.linspace(x_min, t_critical_left)\n",
    "y1 = norm.pdf(x1, mean_population, std_samples)\n",
    "plt.fill_between(x1, y1, color='orange')\n",
    "\n",
    "\n",
    "# Ploting the sample mean and concluding the results \n",
    "plt.scatter(mean_samples,0)\n",
    "plt.annotate(\"x_bar\", (mean_samples, 0.0007))"
   ]
  },
  {
   "cell_type": "code",
   "execution_count": 30,
   "id": "31dd977e",
   "metadata": {},
   "outputs": [
    {
     "name": "stdout",
     "output_type": "stream",
     "text": [
      "Fail to reject Null Hypothesis\n"
     ]
    }
   ],
   "source": [
    "if(t_score > t_critical):\n",
    "     print(\"Reject Null Hypothesis\")\n",
    "else:\n",
    "    print(\"Fail to reject Null Hypothesis\")"
   ]
  },
  {
   "cell_type": "code",
   "execution_count": null,
   "id": "19e30f8a",
   "metadata": {},
   "outputs": [],
   "source": []
  }
 ],
 "metadata": {
  "kernelspec": {
   "display_name": "Python 3",
   "language": "python",
   "name": "python3"
  },
  "language_info": {
   "codemirror_mode": {
    "name": "ipython",
    "version": 3
   },
   "file_extension": ".py",
   "mimetype": "text/x-python",
   "name": "python",
   "nbconvert_exporter": "python",
   "pygments_lexer": "ipython3",
   "version": "3.8.8"
  }
 },
 "nbformat": 4,
 "nbformat_minor": 5
}
